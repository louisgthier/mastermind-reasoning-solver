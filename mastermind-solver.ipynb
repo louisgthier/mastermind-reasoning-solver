{
 "cells": [
  {
   "cell_type": "code",
   "execution_count": 1,
   "metadata": {},
   "outputs": [],
   "source": [
    "# Cell 1: Imports and basic configuration\n",
    "import itertools\n",
    "import random\n",
    "import matplotlib.pyplot as plt\n",
    "import numpy as np\n",
    "from IPython.display import display\n",
    "import ipywidgets as widgets\n",
    "\n",
    "# Set random seed for reproducibility\n",
    "random.seed(42)\n",
    "np.random.seed(42)\n"
   ]
  },
  {
   "cell_type": "code",
   "execution_count": 2,
   "metadata": {},
   "outputs": [
    {
     "name": "stdout",
     "output_type": "stream",
     "text": [
      "Total candidate codes: 46656\n"
     ]
    }
   ],
   "source": [
    "# Cell 2: Define Mastermind parameters and candidate generation\n",
    "NUM_POSITIONS = 4\n",
    "COLORS = ['R', 'G', 'B', 'Y', 'O', 'P']  # 6 colors\n",
    "\n",
    "# Generate all possible codes (each code is a tuple of characters)\n",
    "def generate_all_codes():\n",
    "    return list(itertools.product(COLORS, repeat=NUM_POSITIONS))\n",
    "\n",
    "all_codes = generate_all_codes()\n",
    "print(\"Total candidate codes:\", len(all_codes))\n"
   ]
  },
  {
   "cell_type": "code",
   "execution_count": 3,
   "metadata": {},
   "outputs": [
    {
     "name": "stdout",
     "output_type": "stream",
     "text": [
      "Feedback: (1, 2)\n"
     ]
    }
   ],
   "source": [
    "# Cell 3: Define feedback function\n",
    "def get_feedback(secret, guess):\n",
    "    \"\"\"\n",
    "    Returns a tuple (black, white):\n",
    "    - black: correct color in correct position\n",
    "    - white: correct color in wrong position\n",
    "    \"\"\"\n",
    "    black = sum(s == g for s, g in zip(secret, guess))\n",
    "    # Count colors in secret and guess\n",
    "    secret_color_count = {color: secret.count(color) for color in COLORS}\n",
    "    guess_color_count = {color: guess.count(color) for color in COLORS}\n",
    "    # Total common elements minus blacks gives white pegs\n",
    "    common = sum(min(secret_color_count.get(color,0), guess_color_count.get(color,0)) for color in COLORS)\n",
    "    white = common - black\n",
    "    return black, white\n",
    "\n",
    "# Quick test of feedback function\n",
    "test_secret = ('R', 'G', 'B', 'Y')\n",
    "test_guess  = ('R', 'B', 'Y', 'O')\n",
    "print(\"Feedback:\", get_feedback(test_secret, test_guess))\n"
   ]
  },
  {
   "cell_type": "code",
   "execution_count": 4,
   "metadata": {},
   "outputs": [
    {
     "name": "stdout",
     "output_type": "stream",
     "text": [
      "Candidates remaining after filtering: 2928\n"
     ]
    }
   ],
   "source": [
    "# Cell 4: Define function to filter candidate codes based on guess and feedback\n",
    "def filter_candidates(candidates, guess, feedback):\n",
    "    filtered = []\n",
    "    for code in candidates:\n",
    "        if get_feedback(code, guess) == feedback:\n",
    "            filtered.append(code)\n",
    "    return filtered\n",
    "\n",
    "# Test filtering function with a sample guess and feedback\n",
    "sample_guess = ('R', 'G', 'B', 'Y')\n",
    "sample_feedback = (2, 1)  # Example: 2 black, 1 white\n",
    "filtered_codes = filter_candidates(all_codes, sample_guess, sample_feedback)\n",
    "print(\"Candidates remaining after filtering:\", len(filtered_codes))\n"
   ]
  },
  {
   "cell_type": "code",
   "execution_count": 5,
   "metadata": {},
   "outputs": [],
   "source": [
    "# Cell 5: Heuristic to select next guess\n",
    "def select_next_guess(candidates):\n",
    "    \"\"\"\n",
    "    A simple heuristic: choose the candidate that minimizes the maximum \n",
    "    remaining candidate count over all possible feedbacks.\n",
    "    \"\"\"\n",
    "    best_guess = None\n",
    "    best_score = float('inf')\n",
    "    \n",
    "    for guess in candidates:\n",
    "        feedback_counts = {}\n",
    "        for secret in candidates:\n",
    "            fb = get_feedback(secret, guess)\n",
    "            feedback_counts[fb] = feedback_counts.get(fb, 0) + 1\n",
    "        worst_case = max(feedback_counts.values())\n",
    "        if worst_case < best_score:\n",
    "            best_score = worst_case\n",
    "            best_guess = guess\n",
    "    return best_guess\n",
    "\n",
    "# For speed, if candidate set is large, one might sample a subset.\n"
   ]
  },
  {
   "cell_type": "code",
   "execution_count": 6,
   "metadata": {},
   "outputs": [
    {
     "name": "stdout",
     "output_type": "stream",
     "text": [
      "Secret Code: ('P', 'B', 'B', 'R', 'R', 'G')\n",
      "Solved in 7 iterations\n"
     ]
    }
   ],
   "source": [
    "# Cell 6: Main solver function that simulates a game\n",
    "def mastermind_solver(secret_code):\n",
    "    candidates = generate_all_codes()\n",
    "    history = []  # list of tuples: (guess, feedback, remaining candidates count)\n",
    "    \n",
    "    # Initial guess: you may choose a fixed guess\n",
    "    guess = [COLORS[i%len(COLORS)] for i in range(NUM_POSITIONS)]\n",
    "    iteration = 0\n",
    "    \n",
    "    while True:\n",
    "        iteration += 1\n",
    "        fb = get_feedback(secret_code, guess)\n",
    "        history.append((guess, fb, len(candidates)))\n",
    "        if fb[0] == NUM_POSITIONS:\n",
    "            break\n",
    "        candidates = filter_candidates(candidates, guess, fb)\n",
    "        # For performance, if candidates set is small, use all; else, sample if needed.\n",
    "        if len(candidates) == 0:\n",
    "            print(\"No candidates left!\")\n",
    "            break\n",
    "        guess = select_next_guess(candidates)\n",
    "    return history\n",
    "\n",
    "# Simulate a game with a random secret code\n",
    "secret = random.choice(all_codes)\n",
    "print(\"Secret Code:\", secret)\n",
    "history = mastermind_solver(secret)\n",
    "print(\"Solved in\", len(history), \"iterations\")\n"
   ]
  },
  {
   "cell_type": "code",
   "execution_count": 7,
   "metadata": {},
   "outputs": [
    {
     "data": {
      "image/png": "[encoded data removed]",
      "text/plain": [
       "<Figure size 800x500 with 1 Axes>"
      ]
     },
     "metadata": {},
     "output_type": "display_data"
    }
   ],
   "source": [
    "# Cell 7: Visualization of candidate space evolution over iterations\n",
    "def plot_history(history):\n",
    "    iterations = list(range(1, len(history)+1))\n",
    "    candidates_remaining = [entry[2] for entry in history]\n",
    "    \n",
    "    plt.figure(figsize=(8,5))\n",
    "    plt.plot(iterations, candidates_remaining, marker='o')\n",
    "    plt.xlabel('Iteration')\n",
    "    plt.ylabel('Candidates remaining')\n",
    "    plt.title('Evolution of Candidate Space in Mastermind Solver')\n",
    "    plt.grid(True)\n",
    "    plt.show()\n",
    "\n",
    "plot_history(history)\n"
   ]
  },
  {
   "cell_type": "code",
   "execution_count": 8,
   "metadata": {},
   "outputs": [
    {
     "data": {
      "application/vnd.jupyter.widget-view+json": {
       "model_id": "8026287c2eeb440094fd1674a2700105",
       "version_major": 2,
       "version_minor": 0
      },
      "text/plain": [
       "VBox(children=(Label(value=\"Next Guess: ['R', 'G', 'B', 'Y', 'O', 'P']\"), Text(value='', description='Black:',…"
      ]
     },
     "metadata": {},
     "output_type": "display_data"
    }
   ],
   "source": [
    "# Cell 8: Interactive widget for simulating a game with user input for feedback\n",
    "def interactive_mastermind(secret_code=None):\n",
    "    if secret_code is None:\n",
    "        secret_code = random.choice(all_codes)\n",
    "    candidates = generate_all_codes()\n",
    "    iteration = 0\n",
    "    history = []\n",
    "    \n",
    "    guess = [COLORS[i%len(COLORS)] for i in range(NUM_POSITIONS)]\n",
    "    out = widgets.Output()\n",
    "    \n",
    "    def on_button_click(b):\n",
    "        nonlocal candidates, guess, iteration, history\n",
    "        # Read user input feedback\n",
    "        try:\n",
    "            black = int(black_widget.value)\n",
    "            white = int(white_widget.value)\n",
    "        except:\n",
    "            with out:\n",
    "                print(\"Invalid input, please enter integers for feedback.\")\n",
    "            return\n",
    "        fb = (black, white)\n",
    "        history.append((guess, fb, len(candidates)))\n",
    "        with out:\n",
    "            print(f\"Iteration {iteration+1}: Guess {guess}, Feedback {fb}, Candidates left: {len(candidates)}\")\n",
    "        if fb[0] == NUM_POSITIONS:\n",
    "            with out:\n",
    "                print(\"Solver found the secret code!\")\n",
    "            return\n",
    "        candidates = filter_candidates(candidates, guess, fb)\n",
    "        if len(candidates) == 0:\n",
    "            with out:\n",
    "                print(\"No candidates left. Check your feedback!\")\n",
    "            return\n",
    "        guess = select_next_guess(candidates)\n",
    "        iteration += 1\n",
    "        guess_label.value = f\"Next Guess: {guess}\"\n",
    "    \n",
    "    black_widget = widgets.Text(value='', placeholder='Enter black pegs', description='Black:')\n",
    "    white_widget = widgets.Text(value='', placeholder='Enter white pegs', description='White:')\n",
    "    submit_button = widgets.Button(description=\"Submit Feedback\")\n",
    "    submit_button.on_click(on_button_click)\n",
    "    guess_label = widgets.Label(value=f\"Next Guess: {guess}\")\n",
    "    \n",
    "    ui = widgets.VBox([guess_label, black_widget, white_widget, submit_button, out])\n",
    "    display(ui)\n",
    "\n",
    "# Launch the interactive simulation (feedback must be entered manually)\n",
    "interactive_mastermind()\n"
   ]
  },
  {
   "cell_type": "code",
   "execution_count": null,
   "metadata": {},
   "outputs": [],
   "source": [
    "# Cell 9: Running multiple simulations and plotting statistics\n",
    "def run_simulations(num_simulations=50):\n",
    "    iterations_list = []\n",
    "    for _ in range(num_simulations):\n",
    "        secret = random.choice(all_codes)\n",
    "        hist = mastermind_solver(secret)\n",
    "        iterations_list.append(len(hist))\n",
    "    return iterations_list\n",
    "\n",
    "sim_results = run_simulations(50)\n",
    "print(\"Average iterations:\", np.mean(sim_results))\n",
    "plt.figure(figsize=(8,5))\n",
    "plt.hist(sim_results, bins=range(min(sim_results), max(sim_results)+2), edgecolor='black', align='left')\n",
    "plt.xlabel('Iterations to solve')\n",
    "plt.ylabel('Frequency')\n",
    "plt.title('Histogram of iterations over multiple simulations')\n",
    "plt.show()\n"
   ]
  },
  {
   "cell_type": "code",
   "execution_count": 24,
   "metadata": {},
   "outputs": [
    {
     "name": "stdout",
     "output_type": "stream",
     "text": [
      "Secret Code (hidden in real game): ('G', 'P', 'Y', 'R', 'P', 'G')\n"
     ]
    },
    {
     "ename": "KeyboardInterrupt",
     "evalue": "",
     "output_type": "error",
     "traceback": [
      "\u001b[0;31m---------------------------------------------------------------------------\u001b[0m",
      "\u001b[0;31mKeyboardInterrupt\u001b[0m                         Traceback (most recent call last)",
      "Cell \u001b[0;32mIn[24], line 18\u001b[0m\n\u001b[1;32m     16\u001b[0m \u001b[38;5;66;03m# Execute main function\u001b[39;00m\n\u001b[1;32m     17\u001b[0m \u001b[38;5;28;01mif\u001b[39;00m \u001b[38;5;18m__name__\u001b[39m \u001b[38;5;241m==\u001b[39m \u001b[38;5;124m\"\u001b[39m\u001b[38;5;124m__main__\u001b[39m\u001b[38;5;124m\"\u001b[39m:\n\u001b[0;32m---> 18\u001b[0m     \u001b[43mmain\u001b[49m\u001b[43m(\u001b[49m\u001b[43m)\u001b[49m\n",
      "Cell \u001b[0;32mIn[24], line 6\u001b[0m, in \u001b[0;36mmain\u001b[0;34m()\u001b[0m\n\u001b[1;32m      4\u001b[0m secret \u001b[38;5;241m=\u001b[39m random\u001b[38;5;241m.\u001b[39mchoice(all_codes)\n\u001b[1;32m      5\u001b[0m \u001b[38;5;28mprint\u001b[39m(\u001b[38;5;124m\"\u001b[39m\u001b[38;5;124mSecret Code (hidden in real game):\u001b[39m\u001b[38;5;124m\"\u001b[39m, secret)\n\u001b[0;32m----> 6\u001b[0m hist \u001b[38;5;241m=\u001b[39m \u001b[43mmastermind_solver\u001b[49m\u001b[43m(\u001b[49m\u001b[43msecret\u001b[49m\u001b[43m)\u001b[49m\n\u001b[1;32m      7\u001b[0m \u001b[38;5;28mprint\u001b[39m(\u001b[38;5;124m\"\u001b[39m\u001b[38;5;124mSolution history (guess, feedback, candidates count):\u001b[39m\u001b[38;5;124m\"\u001b[39m)\n\u001b[1;32m      8\u001b[0m \u001b[38;5;28;01mfor\u001b[39;00m i, entry \u001b[38;5;129;01min\u001b[39;00m \u001b[38;5;28menumerate\u001b[39m(hist, \u001b[38;5;241m1\u001b[39m):\n",
      "Cell \u001b[0;32mIn[23], line 21\u001b[0m, in \u001b[0;36mmastermind_solver\u001b[0;34m(secret_code)\u001b[0m\n\u001b[1;32m     19\u001b[0m         \u001b[38;5;28mprint\u001b[39m(\u001b[38;5;124m\"\u001b[39m\u001b[38;5;124mNo candidates left!\u001b[39m\u001b[38;5;124m\"\u001b[39m)\n\u001b[1;32m     20\u001b[0m         \u001b[38;5;28;01mbreak\u001b[39;00m\n\u001b[0;32m---> 21\u001b[0m     guess \u001b[38;5;241m=\u001b[39m \u001b[43mselect_next_guess\u001b[49m\u001b[43m(\u001b[49m\u001b[43mcandidates\u001b[49m\u001b[43m)\u001b[49m\n\u001b[1;32m     22\u001b[0m \u001b[38;5;28;01mreturn\u001b[39;00m history\n",
      "Cell \u001b[0;32mIn[17], line 13\u001b[0m, in \u001b[0;36mselect_next_guess\u001b[0;34m(candidates)\u001b[0m\n\u001b[1;32m     11\u001b[0m feedback_counts \u001b[38;5;241m=\u001b[39m {}\n\u001b[1;32m     12\u001b[0m \u001b[38;5;28;01mfor\u001b[39;00m secret \u001b[38;5;129;01min\u001b[39;00m candidates:\n\u001b[0;32m---> 13\u001b[0m     fb \u001b[38;5;241m=\u001b[39m \u001b[43mget_feedback\u001b[49m\u001b[43m(\u001b[49m\u001b[43msecret\u001b[49m\u001b[43m,\u001b[49m\u001b[43m \u001b[49m\u001b[43mguess\u001b[49m\u001b[43m)\u001b[49m\n\u001b[1;32m     14\u001b[0m     feedback_counts[fb] \u001b[38;5;241m=\u001b[39m feedback_counts\u001b[38;5;241m.\u001b[39mget(fb, \u001b[38;5;241m0\u001b[39m) \u001b[38;5;241m+\u001b[39m \u001b[38;5;241m1\u001b[39m\n\u001b[1;32m     15\u001b[0m worst_case \u001b[38;5;241m=\u001b[39m \u001b[38;5;28mmax\u001b[39m(feedback_counts\u001b[38;5;241m.\u001b[39mvalues())\n",
      "Cell \u001b[0;32mIn[15], line 8\u001b[0m, in \u001b[0;36mget_feedback\u001b[0;34m(secret, guess)\u001b[0m\n\u001b[1;32m      2\u001b[0m \u001b[38;5;28;01mdef\u001b[39;00m\u001b[38;5;250m \u001b[39m\u001b[38;5;21mget_feedback\u001b[39m(secret, guess):\n\u001b[1;32m      3\u001b[0m \u001b[38;5;250m    \u001b[39m\u001b[38;5;124;03m\"\"\"\u001b[39;00m\n\u001b[1;32m      4\u001b[0m \u001b[38;5;124;03m    Returns a tuple (black, white):\u001b[39;00m\n\u001b[1;32m      5\u001b[0m \u001b[38;5;124;03m    - black: correct color in correct position\u001b[39;00m\n\u001b[1;32m      6\u001b[0m \u001b[38;5;124;03m    - white: correct color in wrong position\u001b[39;00m\n\u001b[1;32m      7\u001b[0m \u001b[38;5;124;03m    \"\"\"\u001b[39;00m\n\u001b[0;32m----> 8\u001b[0m     black \u001b[38;5;241m=\u001b[39m \u001b[38;5;28msum\u001b[39m(s \u001b[38;5;241m==\u001b[39m g \u001b[38;5;28;01mfor\u001b[39;00m s, g \u001b[38;5;129;01min\u001b[39;00m \u001b[38;5;28mzip\u001b[39m(secret, guess))\n\u001b[1;32m      9\u001b[0m     \u001b[38;5;66;03m# Count colors in secret and guess\u001b[39;00m\n\u001b[1;32m     10\u001b[0m     secret_color_count \u001b[38;5;241m=\u001b[39m {color: secret\u001b[38;5;241m.\u001b[39mcount(color) \u001b[38;5;28;01mfor\u001b[39;00m color \u001b[38;5;129;01min\u001b[39;00m COLORS}\n",
      "\u001b[0;31mKeyboardInterrupt\u001b[0m: "
     ]
    }
   ],
   "source": [
    "# Cell 10: Final demonstration and execution block\n",
    "def main():\n",
    "    # Run a single simulation and display the history and plot\n",
    "    secret = random.choice(all_codes)\n",
    "    print(\"Secret Code (hidden in real game):\", secret)\n",
    "    hist = mastermind_solver(secret)\n",
    "    print(\"Solution history (guess, feedback, candidates count):\")\n",
    "    for i, entry in enumerate(hist, 1):\n",
    "        print(f\"Iteration {i}: {entry}\")\n",
    "    plot_history(hist)\n",
    "    \n",
    "    # Run interactive widget demo (if desired)\n",
    "    print(\"\\nLaunching interactive simulation widget:\")\n",
    "    interactive_mastermind(secret)\n",
    "\n",
    "# Execute main function\n",
    "if __name__ == \"__main__\":\n",
    "    main()\n"
   ]
  },
  {
   "cell_type": "code",
   "execution_count": null,
   "metadata": {},
   "outputs": [],
   "source": []
  }
 ],
 "metadata": {
  "kernelspec": {
   "display_name": ".venv",
   "language": "python",
   "name": "python3"
  },
  "language_info": {
   "codemirror_mode": {
    "name": "ipython",
    "version": 3
   },
   "file_extension": ".py",
   "mimetype": "text/x-python",
   "name": "python",
   "nbconvert_exporter": "python",
   "pygments_lexer": "ipython3",
   "version": "3.10.12"
  }
 },
 "nbformat": 4,
 "nbformat_minor": 2
}
